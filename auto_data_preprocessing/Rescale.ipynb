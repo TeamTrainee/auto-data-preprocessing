{
 "cells": [
  {
   "cell_type": "code",
   "execution_count": 1,
   "metadata": {},
   "outputs": [],
   "source": [
    "# if code is running on IBM Cloud Pak, uncomment\n",
    "# %%writefile Rescale.py\n",
    "\n",
    "import os\n",
    "import sys\n",
    "from timeit import default_timer as timer\n",
    "import pandas as pd\n",
    "from loguru import logger\n",
    "from scipy.stats import kstest\n",
    "from sklearn.preprocessing import StandardScaler\n",
    "from sklearn.preprocessing import MinMaxScaler\n"
   ]
  },
  {
   "cell_type": "code",
   "execution_count": 2,
   "metadata": {},
   "outputs": [],
   "source": [
    "class Rescale:\n",
    "    \n",
    "    def handle(self, df):\n",
    "        # function for rescaling numerical columns\n",
    "        logger.info('Started rescaling numerical fields...')\n",
    "        start = timer()\n",
    "        \n",
    "        # first the column is checked for normal distribution with Kolmogorov-Smirnov test\n",
    "        # Null Hypothesis: Sample is distributed according to the standard normal\n",
    "        # Confidence level is chosen to be 95%\n",
    "        alpha = 0.05  \n",
    "        \n",
    "        # if the column entries are normally distributed, z-score is used to scale the column\n",
    "        # else, column entries are scaled with MinMaxScalar to be in range [0,1]\n",
    "\n",
    "        cols_num = self.cols_group[\"cols_num\"]\n",
    "        for feature in cols_num:\n",
    "            # perform Kolmogorov Smirnov test on numeric columns\n",
    "            statistic, p_value = kstest(df[feature].astype(np.float64), 'norm')\n",
    "            if p_value < alpha:\n",
    "                # p-value is lower than our threshold alpha, so we reject the null hypothesis\n",
    "                # data are not distributed normally\n",
    "                # use min max scalar if the range is greater than 5\n",
    "                if (df[feature].max() - df[feature].min()) > 5:\n",
    "                    df = Rescale._minmaxscaler(self, df, feature)\n",
    "                \n",
    "            else:\n",
    "                # p-value is higher than our threshold alpha, so we cannot reject the null hypothesis\n",
    "                # use z-score if the variance is greater than 1\n",
    "                if df[feature].astype(np.float64).var() > 1:\n",
    "                    df = Rescale._standardscaler(self, df, feature)        \n",
    "\n",
    "        end = timer()\n",
    "        logger.info('Completed rescaling numerical fields in {} seconds', round(end-start, 6))  \n",
    "        return df\n",
    "    \n",
    "    def _minmaxscaler(self, df, feature):\n",
    "        # function that scales values with MinMaxScalar\n",
    "        mms = MinMaxScaler()\n",
    "        df[feature + '_mms'] = mms.fit_transform(df[[feature]])\n",
    "\n",
    "        return df  \n",
    "    \n",
    "    def _standardscaler(self, df, feature):\n",
    "        # function that scales values with StandardScalar (z-score)\n",
    "        ss = StandardScalar()\n",
    "        df[feature + '_ss'] = ss.fit_transform(df[[feature]])\n",
    "        "
   ]
  },
  {
   "cell_type": "code",
   "execution_count": null,
   "metadata": {},
   "outputs": [],
   "source": []
  },
  {
   "cell_type": "code",
   "execution_count": null,
   "metadata": {},
   "outputs": [],
   "source": []
  }
 ],
 "metadata": {
  "kernelspec": {
   "display_name": "Python 3",
   "language": "python",
   "name": "python3"
  },
  "language_info": {
   "codemirror_mode": {
    "name": "ipython",
    "version": 3
   },
   "file_extension": ".py",
   "mimetype": "text/x-python",
   "name": "python",
   "nbconvert_exporter": "python",
   "pygments_lexer": "ipython3",
   "version": "3.7.3"
  }
 },
 "nbformat": 4,
 "nbformat_minor": 4
}
