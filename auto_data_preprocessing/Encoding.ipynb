{
 "cells": [
  {
   "cell_type": "code",
   "execution_count": 1,
   "metadata": {
    "id": "6e3b1656-9168-4620-a633-afb81e0adb16"
   },
   "outputs": [
    {
     "name": "stdout",
     "output_type": "stream",
     "text": [
      "Writing Encoding.py\n"
     ]
    }
   ],
   "source": [
    "# if code is running on IBM Cloud Pak, uncomment\n",
    "# %%writefile Encoding.py\n",
    "\n",
    "import os\n",
    "import sys\n",
    "from timeit import default_timer as timer\n",
    "import pandas as pd\n",
    "import numpy as np\n",
    "from loguru import logger\n",
    "\n",
    "class Encoding:\n",
    "\n",
    "    def handle(self, df):\n",
    "        # function for encoding of categorical features in the data\n",
    "            # select non numeric features\n",
    "            cols_categ = self.cols_group[\"cols_categ\"]\n",
    "            target_cols = cols_categ\n",
    "            # check if all columns should be encoded\n",
    "            logger.info('Started encoding categorical features... Method: one-hot encoding')\n",
    "            start = timer()\n",
    "            for feature in target_cols:\n",
    "                try:\n",
    "                    # skip encoding of datetime features\n",
    "                    pd.to_datetime(df[feature])\n",
    "                    logger.debug('Skipped encoding for DATETIME feature \"{}\"', feature)\n",
    "                except:\n",
    "                    try:\n",
    "                        # ONEHOT encode if not more than 10 unique values to encode\n",
    "                        if df[feature].nunique() <=10:\n",
    "                            df = Encoding._to_onehot(self, df, feature)\n",
    "                            logger.debug('Encoding to ONEHOT succeeded for feature \"{}\"', feature)\n",
    "                        # LABEL encode if not more than 20 unique values to encode\n",
    "                        elif df[feature].nunique() <=20:\n",
    "                            df = Encoding._to_label(self, df, feature)\n",
    "                            logger.debug('Encoding to LABEL succeeded for feature \"{}\"', feature)\n",
    "                        # skip encoding if more than 20 unique values to encode\n",
    "                        else:\n",
    "                            logger.debug('Encoding skipped for feature \"{}\"', feature)   \n",
    "                    except:\n",
    "                        logger.warning('Encoding failed for feature \"{}\"', feature)    \n",
    "            end = timer()\n",
    "            logger.info('Completed encoding of categorical features in {} seconds', round(end-start, 6))\n",
    "            return df\n",
    "\n",
    "    def _to_onehot(self, df, feature, limit=10):  \n",
    "        # function that encodes categorical features to OneHot encodings    \n",
    "        one_hot = pd.get_dummies(df[feature], prefix=feature)\n",
    "        if one_hot.shape[1] > limit:\n",
    "            logger.warning('ONEHOT encoding for feature \"{}\" creates {} new features. Consider LABEL encoding instead.', feature, one_hot.shape[1])\n",
    "        # join the encoded df\n",
    "        df = df.join(one_hot)\n",
    "        return df\n",
    "\n",
    "    def _to_label(self, df, feature):\n",
    "        # function that encodes categorical features to label encodings \n",
    "        le = preprocessing.LabelEncoder()\n",
    "\n",
    "        df[feature + '_lab'] = le.fit_transform(df[feature].values)\n",
    "        mapping = dict(zip(le.classes_, range(len(le.classes_))))\n",
    "        \n",
    "        for key in mapping:\n",
    "            try:\n",
    "                if isnan(key):               \n",
    "                    replace = {mapping[key] : key }\n",
    "                    df[feature].replace(replace, inplace=True)\n",
    "            except:\n",
    "                pass\n",
    "        return df  "
   ]
  },
  {
   "cell_type": "code",
   "execution_count": null,
   "metadata": {
    "id": "2bb00338ee1d48a481c9e46b9f5fd199"
   },
   "outputs": [],
   "source": []
  }
 ],
 "metadata": {
  "kernelspec": {
   "display_name": "Python 3 (ipykernel)",
   "language": "python",
   "name": "python3"
  },
  "language_info": {
   "codemirror_mode": {
    "name": "ipython",
    "version": 3
   },
   "file_extension": ".py",
   "mimetype": "text/x-python",
   "name": "python",
   "nbconvert_exporter": "python",
   "pygments_lexer": "ipython3",
   "version": "3.9.12"
  }
 },
 "nbformat": 4,
 "nbformat_minor": 1
}
