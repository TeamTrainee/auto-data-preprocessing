{
 "cells": [
  {
   "cell_type": "code",
   "execution_count": 2,
   "metadata": {
    "id": "98a5d7e94c0e4fa182c771b62d7d6eff"
   },
   "outputs": [],
   "source": [
    "# if code is running on IBM Cloud Pak, uncomment\n",
    "# %%writefile Duplicates.py\n",
    "\n",
    "from timeit import default_timer as timer\n",
    "import numpy as np\n",
    "from loguru import logger\n",
    "import warnings\n",
    "warnings.filterwarnings('ignore')\n",
    "\n",
    "class Duplicates:\n",
    "\n",
    "    def handle(self, df):\n",
    "        # function for handling duplicate values in the data\n",
    "        logger.info('Started handling of duplicates... Method: deletion')\n",
    "        start = timer()\n",
    "        original = df.shape\n",
    "        try:\n",
    "            df.drop_duplicates(inplace=True, ignore_index=False)\n",
    "            df = df.reset_index(drop=True)\n",
    "            new = df.shape\n",
    "            count = original[0] - new[0]\n",
    "            if count != 0:\n",
    "                logger.debug('Deletion of {} duplicate(s) succeeded', count)\n",
    "            else:\n",
    "                logger.debug('{} missing values found', count)\n",
    "            end = timer()\n",
    "            logger.info('Completed handling of duplicates in {} seconds', round(end-start, 6))\n",
    "\n",
    "        except:\n",
    "            logger.warning('Handling of duplicates failed')        \n",
    "        return df "
   ]
  },
  {
   "cell_type": "code",
   "execution_count": null,
   "metadata": {
    "id": "09981af54e2c41568db26b7f2ece7a5a"
   },
   "outputs": [],
   "source": []
  }
 ],
 "metadata": {
  "kernelspec": {
   "display_name": "Python 3",
   "language": "python",
   "name": "python3"
  },
  "language_info": {
   "codemirror_mode": {
    "name": "ipython",
    "version": 3
   },
   "file_extension": ".py",
   "mimetype": "text/x-python",
   "name": "python",
   "nbconvert_exporter": "python",
   "pygments_lexer": "ipython3",
   "version": "3.7.3"
  }
 },
 "nbformat": 4,
 "nbformat_minor": 1
}
