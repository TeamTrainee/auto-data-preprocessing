{
 "cells": [
  {
   "cell_type": "code",
   "execution_count": 1,
   "metadata": {
    "id": "6d863639-99f5-4236-8466-b5eeb1f6b1f9"
   },
   "outputs": [],
   "source": [
    "# if code is running on IBM Cloud Pak, uncomment\n",
    "# %%writefile Outliers.py\n",
    "\n",
    "import os\n",
    "import sys\n",
    "from timeit import default_timer as timer\n",
    "import pandas as pd\n",
    "import numpy as np\n",
    "from loguru import logger\n",
    "from sklearn.ensemble import IsolationForest\n",
    "\n",
    "class Outliers:\n",
    "\n",
    "    def handle(self, df):\n",
    "        # function for handling of outliers in the data\n",
    "        logger.info('Started handling of outliers...')\n",
    "        start = timer()\n",
    "                \n",
    "        outlier_indexes = Outliers._isolation_forest_detection(self, df, self.cols_group[\"cols_num\"])\n",
    "        \n",
    "        # change detected outlier values to NAN value for 'MissingValue' phase  \n",
    "        for feature in self.cols_group[\"cols_num\"]:\n",
    "            for index in outlier_indexes[feature]:\n",
    "                df.loc[index, feature] = np.nan\n",
    "\n",
    "        \n",
    "        end = timer()\n",
    "        logger.info('Completed handling of outliers in {} seconds', round(end-start, 6))\n",
    "        \n",
    "        return df\n",
    "\n",
    "\n",
    "    def _isolation_forest_detection(self, df, cols_num):\n",
    "        # function for outlier detection with isolation forest alg\n",
    "        logger.info('Isolation Forest algorithm started the detection...')\n",
    "        # Key   : Feature names\n",
    "        # Value : List of outlier elements' indexes for that feature \n",
    "        IF_predictions = {}\n",
    "                \n",
    "        for feature in cols_num:\n",
    "            # reshaping for IsolationForest()\n",
    "            feature_shaped = df[feature].values.reshape(-1, 1)\n",
    "\n",
    "            # initializing the isolation forest\n",
    "            isolation_model = IsolationForest(contamination = 0.003)\n",
    "\n",
    "            # training the model \n",
    "            isolation_model.fit(feature_shaped)\n",
    "\n",
    "            # making predictions \n",
    "            IF_predictions[feature] = np.where(isolation_model.predict(feature_shaped) == -1)[0]\n",
    "            \n",
    "            logger.debug(f'Outlier Detection: {len(IF_predictions[feature])} value(s) found for feature \"{feature}\"')\n",
    "        \n",
    "        logger.info('Isolation Forest algorithm finished the detection...')\n",
    "        \n",
    "        return IF_predictions"
   ]
  },
  {
   "cell_type": "code",
   "execution_count": null,
   "metadata": {
    "id": "cbe78902b5404f93931d90c34e96302d"
   },
   "outputs": [],
   "source": []
  }
 ],
 "metadata": {
  "kernelspec": {
   "display_name": "Python 3 (ipykernel)",
   "language": "python",
   "name": "python3"
  },
  "language_info": {
   "codemirror_mode": {
    "name": "ipython",
    "version": 3
   },
   "file_extension": ".py",
   "mimetype": "text/x-python",
   "name": "python",
   "nbconvert_exporter": "python",
   "pygments_lexer": "ipython3",
   "version": "3.9.12"
  }
 },
 "nbformat": 4,
 "nbformat_minor": 1
}
