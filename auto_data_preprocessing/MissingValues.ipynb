{
 "cells": [
  {
   "cell_type": "code",
   "execution_count": 1,
   "metadata": {
    "id": "98a5d7e94c0e4fa182c771b62d7d6eff"
   },
   "outputs": [
    {
     "name": "stdout",
     "output_type": "stream",
     "text": [
      "Writing MissingValues.py\n"
     ]
    }
   ],
   "source": [
    "# if code is running on IBM Cloud Pak, uncomment\n",
    "# %%writefile MissingValues.py\n",
    "\n",
    "from timeit import default_timer as timer\n",
    "import numpy as np\n",
    "import pandas as pd\n",
    "from sklearn.impute import KNNImputer\n",
    "from loguru import logger\n",
    "import warnings\n",
    "warnings.filterwarnings('ignore')\n",
    "\n",
    "class MissingValues:\n",
    "\n",
    "    def handle(self, df, _n_neighbors=3):\n",
    "        # function for handling missing values in the data\n",
    "        logger.info('Started handling of missing values...')\n",
    "        start = timer()\n",
    "        self.count_missing = df.isna().sum().sum()\n",
    "\n",
    "        if self.count_missing != 0:\n",
    "            logger.info('Found a total of {} missing value(s)', self.count_missing)\n",
    "            df = df.dropna(how='all')   # remove the row or column with all values missing\n",
    "            df.reset_index(drop=True)\n",
    "            \n",
    "            logger.info('Started handling missing values... ')\n",
    "            self.missing_categ = 'knn'\n",
    "            imputer = KNNImputer(n_neighbors=_n_neighbors)\n",
    "            df = MissingValues._impute(self, df, imputer)\n",
    " \n",
    "        else:\n",
    "            logger.debug('{} missing values found', self.count_missing)\n",
    "        end = timer()\n",
    "        logger.info('Completed handling of missing values in {} seconds', round(end-start, 6))  \n",
    "        return df\n",
    "\n",
    "    def _impute(self, df, imputer):\n",
    "        # function for imputing missing values in the data\n",
    "        boolean_features = self.cols_group[\"cols_flag\"]\n",
    "        cols_num = self.cols_group[\"cols_num\"]    \n",
    "\n",
    "        for feature in df.columns: \n",
    "            if feature in cols_num:\n",
    "                # check if there is any missing value\n",
    "                if df[feature].isna().sum().sum() != 0:\n",
    "                    try:\n",
    "                        df_imputed = pd.DataFrame(imputer.fit_transform(np.array(df[feature]).reshape(-1, 1)))\n",
    "                        counter = df[feature].isna().sum().sum() - df_imputed.isna().sum().sum()\n",
    "\n",
    "                        if (df[feature].fillna(-9999) % 1  == 0).all():\n",
    "                            df[feature] = df_imputed\n",
    "                            # round back to INTs, if original data were INTs\n",
    "                            df[feature] = df[feature].round()\n",
    "                            df[feature] = df[feature].astype('Int64')                                        \n",
    "                        else:\n",
    "                            df[feature] = df_imputed\n",
    "                        if counter != 0:\n",
    "                            logger.debug('KNN imputation of {} value(s) succeeded for feature \"{}\"', counter, feature)\n",
    "                    except:\n",
    "                        logger.warning('KNN imputation failed for feature \"{}\"', feature)\n",
    "                        \n",
    "            else:\n",
    "                if df[feature].isna().sum()!= 0:\n",
    "                    try:\n",
    "                        mapping = dict()\n",
    "                        mappings = {k: i for i, k in enumerate(df[feature].dropna().unique(), 0)}\n",
    "                        mapping[feature] = mappings\n",
    "                        df[feature] = df[feature].map(mapping[feature])\n",
    "\n",
    "                        df_imputed = pd.DataFrame(imputer.fit_transform(np.array(df[feature]).reshape(-1, 1)), columns=[feature])    \n",
    "                        counter = sum(1 for i, j in zip(list(df_imputed[feature]), list(df[feature])) if i != j)\n",
    "\n",
    "                        # round to integers before mapping back to original values\n",
    "                        df[feature] = df_imputed\n",
    "                        df[feature] = df[feature].round()\n",
    "                        df[feature] = df[feature].astype('Int64')  \n",
    "\n",
    "                        # map values back to original\n",
    "                        mappings_inv = {v: k for k, v in mapping[feature].items()}\n",
    "                        df[feature] = df[feature].map(mappings_inv)\n",
    "                        if counter != 0:\n",
    "                            logger.debug('{} imputation of {} value(s) succeeded for feature \"{}\"', self.missing_categ.upper(), counter, feature)\n",
    "                    except:\n",
    "                        logger.warning('{} imputation failed for feature \"{}\"', str(self.missing_categ).upper(), feature)\n",
    "        return df"
   ]
  },
  {
   "cell_type": "code",
   "execution_count": null,
   "metadata": {
    "id": "09981af54e2c41568db26b7f2ece7a5a"
   },
   "outputs": [],
   "source": []
  }
 ],
 "metadata": {
  "kernelspec": {
   "display_name": "Python 3",
   "language": "python",
   "name": "python3"
  },
  "language_info": {
   "codemirror_mode": {
    "name": "ipython",
    "version": 3
   },
   "file_extension": ".py",
   "mimetype": "text/x-python",
   "name": "python",
   "nbconvert_exporter": "python",
   "pygments_lexer": "ipython3",
   "version": "3.7.3"
  }
 },
 "nbformat": 4,
 "nbformat_minor": 1
}
