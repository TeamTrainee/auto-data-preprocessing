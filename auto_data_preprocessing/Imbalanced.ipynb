{
 "cells": [
  {
   "cell_type": "code",
   "execution_count": 1,
   "metadata": {},
   "outputs": [],
   "source": [
    "# %%writefile Imbalanced.py\n",
    "\n",
    "import numpy as np\n",
    "import pandas as pd\n",
    "\n",
    "class Imbalanced:\n",
    "        \n",
    "    def handle(df):\n",
    "        # function for returning imbalanced fields\n",
    "        \n",
    "        imbalance_threshold = 0.85\n",
    "\n",
    "        imbalanced_fields = {}\n",
    "        info_message = ''\n",
    "        \n",
    "        # feature statistics in separate lists with the following format:\n",
    "        # [ column name , number of unique values , number of missing values ]\n",
    "        features_stats = [\n",
    "            (\n",
    "                i,\n",
    "                df[i].value_counts(),\n",
    "                df[i].isnull().sum(),\n",
    "            )\n",
    "            for i in df.columns\n",
    "        ]\n",
    "\n",
    "        for column_stats in features_stats:\n",
    "            # check for imbalanced columns\n",
    "            feature = column_stats[0]\n",
    "\n",
    "            # get the unique category counts for the feature\n",
    "            category_counts = df[feature].value_counts().to_dict()\n",
    "            max_count = max(category_counts.values())\n",
    "            max_category = ''\n",
    "            for key, value in category_counts.items():\n",
    "                if value == max_count:\n",
    "                    max_category = key\n",
    "\n",
    "            # if the maximum number of elements in a category is larger than the imbalance threshold\n",
    "            # store the imbalanced field information in a dictionary to be returned\n",
    "            # { feature : [percentage of imbalancedness , value with maximum occurence]}\n",
    "            if max_count > (len(df) * imbalance_threshold):\n",
    "                imbalanced_fields[str(feature)] = [str(max_count / len(df) * 100), str(max_category)]\n",
    "                info_message = info_message + \"'\" + str(feature) + \"' \\tfeature is imbalanced with \\t\" + str(max_count / len(df) * 100) + \"% \\tof its entries containing the value: \\t\" + str(max_category) + \".\\n\"\n",
    "        \n",
    "        return imbalanced_fields, info_message\n"
   ]
  },
  {
   "cell_type": "code",
   "execution_count": null,
   "metadata": {},
   "outputs": [],
   "source": []
  }
 ],
 "metadata": {
  "kernelspec": {
   "display_name": "Python 3",
   "language": "python",
   "name": "python3"
  },
  "language_info": {
   "codemirror_mode": {
    "name": "ipython",
    "version": 3
   },
   "file_extension": ".py",
   "mimetype": "text/x-python",
   "name": "python",
   "nbconvert_exporter": "python",
   "pygments_lexer": "ipython3",
   "version": "3.7.3"
  }
 },
 "nbformat": 4,
 "nbformat_minor": 4
}
